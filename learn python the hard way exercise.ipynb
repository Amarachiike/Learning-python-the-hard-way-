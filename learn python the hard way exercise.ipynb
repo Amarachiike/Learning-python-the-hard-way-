{
 "cells": [
  {
   "cell_type": "code",
   "execution_count": 16,
   "metadata": {},
   "outputs": [
    {
     "name": "stdout",
     "output_type": "stream",
     "text": [
      "i will now count my chicken\n",
      "Hens 30.0\n",
      "Roosters 97\n",
      "Now i will count the eggs\n",
      "6.75\n",
      "is it true that 3 + 2 < 5?\n",
      "False\n",
      "What is 3 + 2? 5\n",
      "What is 5-7? -2\n",
      "oh, that's why it's false\n",
      "how about some more\n",
      " is it greater? True\n",
      "is it greater or equal? True\n",
      "is it less or equal? False\n"
     ]
    }
   ],
   "source": [
    "### exercise3\n",
    "print (\"i will now count my chicken\")\n",
    "print(\"Hens\", 25+30/6)\n",
    "print(\"Roosters\", 100 - 25 * 3 % 4)\n",
    "print(\"Now i will count the eggs\")\n",
    "print(3 + 2 + 1- 5 + 4 % 2 - 1 / 4 + 6)\n",
    "print(\"is it true that 3 + 2 < 5?\")\n",
    "print(3 + 2 < 5 -7)\n",
    "print(\"What is 3 + 2?\", 3 + 2)\n",
    "print(\"What is 5-7?\", 5 - 7)\n",
    "print(\"oh, that's why it's false\")\n",
    "print(\"how about some more\")\n",
    "print(\" is it greater?\", 5 >= -2)\n",
    "print(\"is it greater or equal?\",  5 >= -2)\n",
    "print(\"is it less or equal?\", 5 <= -2)"
   ]
  },
  {
   "cell_type": "code",
   "execution_count": 1,
   "metadata": {},
   "outputs": [
    {
     "name": "stdout",
     "output_type": "stream",
     "text": [
      "there are 100 cars available\n",
      "there are only 30 divers available\n",
      "there will be 70 empty cars today\n",
      "we can transport 120.0 people today\n",
      "we have 90 to carpool today\n",
      "we need to put about 3.0 in each car\n"
     ]
    }
   ],
   "source": [
    "### Exercise 4\n",
    "\n",
    "cars = 100\n",
    "space_in_a_car = 4.0\n",
    "drivers = 30\n",
    "passengers = 90\n",
    "cars_not_driven = cars - drivers\n",
    "cars_driven = drivers\n",
    "carpool_capacity = cars_driven * space_in_a_car\n",
    "average_pasengers_per_car = passengers / cars_driven\n",
    "\n",
    "print(\"there are\", cars, \"cars available\")\n",
    "print(\"there are only\", drivers, \"divers available\")\n",
    "print(\"there will be\", cars_not_driven, \"empty cars today\")\n",
    "print(\"we can transport\", carpool_capacity, \"people today\")\n",
    "print(\"we have\",passengers, \"to carpool today\")\n",
    "print(\"we need to put about\", average_pasengers_per_car, \"in each car\")"
   ]
  },
  {
   "cell_type": "code",
   "execution_count": 28,
   "metadata": {},
   "outputs": [
    {
     "name": "stdout",
     "output_type": "stream",
     "text": [
      "let's talk about Zed A. Shaw\n",
      "he's 74 inches tall\n",
      "he's 180 pounds heavy\n",
      "Atually that is not too heavy\n",
      "He's got Blue eyes and Brown hair.\n",
      "His teeth aree usually white depending on the coffee.\n"
     ]
    }
   ],
   "source": [
    "### exercise 5\n",
    "\n",
    "my_name = 'Zed A. Shaw'\n",
    "my_age = 35 ### not a lie\n",
    "my_height = 74 ### inches\n",
    "my_weight = 180 ### lbs\n",
    "my_eyes = 'Blue'\n",
    "my_teeth = 'white'\n",
    "my_hair = 'Brown'\n",
    "\n",
    "print(\"let's talk about %s\" %my_name)\n",
    "print(\"he's %d inches tall\" %my_height)\n",
    "print(\"he's %d pounds heavy\" %my_weight)\n",
    "print(\"Atually that is not too heavy\")\n",
    "print(\"He's got %s eyes and %s hair.\" %(my_eyes, my_hair))\n",
    "print(\"His teeth aree usually %s depending on the coffee.\" %my_teeth)\n"
   ]
  },
  {
   "cell_type": "code",
   "execution_count": 27,
   "metadata": {},
   "outputs": [
    {
     "name": "stdout",
     "output_type": "stream",
     "text": [
      "they are 10 types of people.\n",
      "those who know binary and those who don't.\n",
      "I said: 'they are 10 types of people.'.\n",
      "I also said: 'those who know binary and those who don't.'.\n",
      "isn't that joke so funny?! False\n",
      "this is the left side of ...a string with a right side.\n"
     ]
    }
   ],
   "source": [
    "### exercise 6\n",
    "\n",
    "\n",
    "x = \"they are %d types of people.\" % 10\n",
    "binary = \"binary\"\n",
    "do_not = \"don't\"\n",
    "y = \"those who know %s and those who %s.\" % (binary, do_not)\n",
    "\n",
    "print(x)\n",
    "print(y)\n",
    "print(\"I said: %r.\" % x)\n",
    "print(\"I also said: '%s'.\" % y)\n",
    "\n",
    "\n",
    "hillarious = False\n",
    "joke_evaluation = \"isn't that joke so funny?! %r\"\n",
    "\n",
    "print(joke_evaluation % hillarious)\n",
    "\n",
    "w = \"this is the left side of ...\"\n",
    "e = \"a string with a right side.\"\n",
    "\n",
    "print(w + e)"
   ]
  },
  {
   "cell_type": "code",
   "execution_count": 13,
   "metadata": {},
   "outputs": [
    {
     "name": "stdout",
     "output_type": "stream",
     "text": [
      "Mary had a little lamb\n",
      "It's fleece was white as snow.\n",
      "And everywhere that Mary went.\n",
      "..........\n",
      "Cheese\n",
      "Burger\n",
      "Cheese Burger\n"
     ]
    }
   ],
   "source": [
    "### Exercise 7\n",
    "\n",
    "print(\"Mary had a little lamb\")\n",
    "print(\"It's fleece was white as %s.\" % 'snow')\n",
    "print(\"And everywhere that Mary went.\")\n",
    "print(\".\" * 10) ## what'd that do? it multiplies the dotted line by 10; that is creating 10 times the dotted line\n",
    "\n",
    "end1 = \"C\"\n",
    "end2 = \"h\"\n",
    "end3 = \"e\"\n",
    "end4 = \"e\"\n",
    "end5 = \"s\"\n",
    "end6 = \"e\"\n",
    "end7 = \"B\"\n",
    "end8 = \"u\"\n",
    "end9 = \"r\"\n",
    "end10 =\"g\"\n",
    "end11 = \"e\"\n",
    "end12 = \"r\"\n",
    "\n",
    "print(end1 + end2 + end3 + end4 + end5 + end6)\n",
    "print(end7 + end8 + end9 + end10 + end11 + end12) ## this seperates the words\n",
    "\n",
    "print(end1 + end2 + end3 + end4 + end5 + end6, end7 + end8 + end9 + end10 + end11 + end12)\n",
    "### the comma in between the last statement created space between the words"
   ]
  },
  {
   "cell_type": "code",
   "execution_count": 19,
   "metadata": {},
   "outputs": [
    {
     "name": "stdout",
     "output_type": "stream",
     "text": [
      "1 2 3 4\n",
      "'one' 'two' 'three' 'four'\n",
      "True False False True\n",
      "'%r %r %r %r' '%r %r %r %r' '%r %r %r %r' '%r %r %r %r'\n",
      "'i had this thing.' 'That you could type up right.' \"But it didn't sing.\" 'So i said goodnight'\n"
     ]
    }
   ],
   "source": [
    "### Exercise 8\n",
    "\n",
    "formatter = \"%r %r %r %r\"\n",
    "\n",
    "print(formatter % (1, 2, 3, 4))\n",
    "print(formatter % (\"one\", \"two\", \"three\", \"four\",))\n",
    "print(formatter % (True, False, False, True))\n",
    "print(formatter % (formatter, formatter, formatter, formatter))\n",
    "print(formatter % (\n",
    "\"i had this thing.\",\n",
    "\"That you could type up right.\",\n",
    "\"But it didn't sing.\",\n",
    "\"So i said goodnight\")) "
   ]
  },
  {
   "cell_type": "code",
   "execution_count": 2,
   "metadata": {},
   "outputs": [
    {
     "name": "stdout",
     "output_type": "stream",
     "text": [
      "Days of the week Mon, Tue, Wed, Thu, Fri, Sat, Sun\n",
      "List of months in a year \n",
      "Jan\n",
      "Feb\n",
      "Mar\n",
      "Apr\n",
      "May\n",
      "Jun\n",
      "Jul\n",
      "Aug\n",
      "list of numbers from 1-7 \n",
      "1\n",
      "2\n",
      "3\n",
      "4\n",
      "5\n",
      "6\n",
      "7\n",
      "\n",
      "somedays are like that.\n",
      "people see that they want to see.\n",
      "discipline is neccerary in this present day.\n",
      "\n"
     ]
    }
   ],
   "source": [
    "### Chapter 9\n",
    "\n",
    "days_week = \"Mon, Tue, Wed, Thu, Fri, Sat, Sun\"\n",
    "months = \"\\nJan\\nFeb\\nMar\\nApr\\nMay\\nJun\\nJul\\nAug\" ### \\n is used in creating new lines\n",
    "numbers = \"\\n1\\n2\\n3\\n4\\n5\\n6\\n7\"\n",
    "\n",
    "print(\"Days of the week\", days_week)\n",
    "print(\"List of months in a year\", months)\n",
    "print(\"list of numbers from 1-7\", numbers)\n",
    "\n",
    "\n",
    "print(\"\"\"\n",
    "somedays are like that.\n",
    "people see that they want to see.\n",
    "discipline is neccerary in this present day.\n",
    "\"\"\")\n"
   ]
  },
  {
   "cell_type": "code",
   "execution_count": 13,
   "metadata": {},
   "outputs": [
    {
     "name": "stdout",
     "output_type": "stream",
     "text": [
      "\t I'm farmished.\n",
      "checkout \n",
      "burger king.\n",
      "I'm certain ' that is the \\ best choice.\n",
      "\n",
      "mist of menu:\n",
      "\t* chicken burger\n",
      "\t* meat burger\n",
      "\t* sausage \n",
      "\t* beef\n",
      "\n",
      "mist of menu:\n",
      "\t* chicken burger\n",
      "\t* meat burger\n",
      "\t* sausage \n",
      "\t* beef\n"
     ]
    }
   ],
   "source": [
    "brown = \"\\t I'm farmished.\"\n",
    "amelia = \"checkout \\nburger king.\"\n",
    "charles = \"I'm certain \\' that is the \\\\ best choice.\" ##\\t is for tab space\n",
    "\n",
    "burger_king = \"\"\"\n",
    "mist of menu:\n",
    "\\t* chicken burger\n",
    "\\t* meat burger\n",
    "\\t* sausage \\n\\t* beef\"\"\"\n",
    "\n",
    "burger_king2 = '''\n",
    "mist of menu:\n",
    "\\t* chicken burger\n",
    "\\t* meat burger\n",
    "\\t* sausage \\n\\t* beef'''\n",
    "\n",
    "\n",
    "\n",
    "print(brown)\n",
    "print(amelia)\n",
    "print(charles)\n",
    "print(burger_king)\n",
    "print(burger_king2)\n"
   ]
  },
  {
   "cell_type": "code",
   "execution_count": 3,
   "metadata": {},
   "outputs": [
    {
     "name": "stdout",
     "output_type": "stream",
     "text": [
      "11\n",
      "14\n",
      "75\n",
      "how old are you 11\n",
      "how tall are you 14\n",
      "how much do you weigh? 75\n",
      "so, you're '11' old, '14' tall and '75' heavy.\n"
     ]
    }
   ],
   "source": [
    "### Exercise 11\n",
    "\n",
    "\n",
    "age = input()\n",
    "height = input()\n",
    "weight = input()\n",
    "print(\"how old are you\", age) \n",
    "print(\"how tall are you\",height)\n",
    "print(\"how much do you weigh?\", weight)  \n",
    "\n",
    "\n",
    "print(\"so, you're %r old, %r tall and %r heavy.\" %(age, height, weight))"
   ]
  },
  {
   "cell_type": "code",
   "execution_count": 11,
   "metadata": {},
   "outputs": [
    {
     "name": "stdout",
     "output_type": "stream",
     "text": [
      "How old are you12\n",
      "how tall are you5'5\n",
      "How much do you weigh75\n",
      "so, you're '12' old,\"5'5\" tall and '75' heavy.\n"
     ]
    }
   ],
   "source": [
    "### Exercise 12\n",
    "age = input(\"How old are you\")\n",
    "height = input(\"how tall are you\")\n",
    "weight = input(\"How much do you weigh\")\n",
    "\n",
    "\n",
    "\n",
    "print(\"so, you're %r old,%r tall and %r heavy.\" %(age, height, weight))"
   ]
  },
  {
   "cell_type": "code",
   "execution_count": 5,
   "metadata": {},
   "outputs": [
    {
     "name": "stdout",
     "output_type": "stream",
     "text": [
      "The script is called: C:\\Users\\USER\\anaconda3\\lib\\site-packages\\ipykernel_launcher.py\n",
      "Your first variable is: -f\n",
      "Your second variable is: C:\\Users\\USER\\AppData\\Roaming\\jupyter\\runtime\\kernel-a8e1713e-b544-445e-8c6c-d40dab358009.json\n"
     ]
    }
   ],
   "source": [
    "###\n",
    "from sys import argv\n",
    "\n",
    "script, first, second = argv\n",
    "\n",
    "print(\"The script is called:\", script)\n",
    "print(\"Your first variable is:\", first)\n",
    "print(\"Your second variable is:\", second)\n"
   ]
  },
  {
   "cell_type": "code",
   "execution_count": 8,
   "metadata": {},
   "outputs": [
    {
     "ename": "ValueError",
     "evalue": "too many values to unpack (expected 2)",
     "output_type": "error",
     "traceback": [
      "\u001b[1;31m---------------------------------------------------------------------------\u001b[0m",
      "\u001b[1;31mValueError\u001b[0m                                Traceback (most recent call last)",
      "\u001b[1;32m<ipython-input-8-53df4721011c>\u001b[0m in \u001b[0;36m<module>\u001b[1;34m\u001b[0m\n\u001b[0;32m      1\u001b[0m \u001b[1;32mfrom\u001b[0m \u001b[0msys\u001b[0m \u001b[1;32mimport\u001b[0m \u001b[0margv\u001b[0m\u001b[1;33m\u001b[0m\u001b[1;33m\u001b[0m\u001b[0m\n\u001b[0;32m      2\u001b[0m \u001b[1;33m\u001b[0m\u001b[0m\n\u001b[1;32m----> 3\u001b[1;33m \u001b[0mscript\u001b[0m\u001b[1;33m,\u001b[0m \u001b[0mregion\u001b[0m \u001b[1;33m=\u001b[0m \u001b[0margv\u001b[0m\u001b[1;33m\u001b[0m\u001b[1;33m\u001b[0m\u001b[0m\n\u001b[0m\u001b[0;32m      4\u001b[0m \u001b[0mprompt\u001b[0m \u001b[1;33m=\u001b[0m \u001b[1;34m'>'\u001b[0m\u001b[1;33m\u001b[0m\u001b[1;33m\u001b[0m\u001b[0m\n\u001b[0;32m      5\u001b[0m \u001b[1;33m\u001b[0m\u001b[0m\n",
      "\u001b[1;31mValueError\u001b[0m: too many values to unpack (expected 2)"
     ]
    }
   ],
   "source": [
    "from sys import argv\n",
    "\n",
    "script, region = argv\n",
    "prompt = '>'\n",
    "\n",
    "print(\"hi %s, i'm the %s script.\", (script, region))\n",
    "print(\"i'd like to ask you a few questions.\")\n",
    "print(\"what %s will you like to go?\", region)\n",
    "likes = input(prompt)"
   ]
  },
  {
   "cell_type": "code",
   "execution_count": null,
   "metadata": {},
   "outputs": [],
   "source": [
    "from sys import argv\n",
    "2\n",
    "3 script, user_name = argv\n",
    "4 prompt = '> '\n",
    "5\n",
    "6 print \"Hi %s, I'm the %s script.\" % (user_name, script)\n",
    "7 print \"I'd like to ask you a few questions.\"\n",
    "8 print \"Do you like me %s?\" % user_name\n",
    "9 likes = raw_input(prompt)\n",
    "10\n",
    "11 print \"Where do you live %s?\" % user_name\n",
    "12 lives = raw_input(prompt)\n",
    "13\n",
    "14 print \"What kind of computer do you have?\"\n",
    "15 computer = raw_input(prompt)\n",
    "16\n",
    "17 print \"\"\"\n",
    "18 Alright, so you said %r about liking me.\n",
    "19 You live in %r. Not sure where that is.\n",
    "20 And you have a %r computer. Nice.\n",
    "21 \"\"\" % (likes, lives, computer"
   ]
  }
 ],
 "metadata": {
  "kernelspec": {
   "display_name": "Python 3",
   "language": "python",
   "name": "python3"
  },
  "language_info": {
   "codemirror_mode": {
    "name": "ipython",
    "version": 3
   },
   "file_extension": ".py",
   "mimetype": "text/x-python",
   "name": "python",
   "nbconvert_exporter": "python",
   "pygments_lexer": "ipython3",
   "version": "3.8.3"
  }
 },
 "nbformat": 4,
 "nbformat_minor": 4
}
